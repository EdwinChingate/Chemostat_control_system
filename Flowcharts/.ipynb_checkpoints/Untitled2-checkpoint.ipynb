{
 "cells": [
  {
   "cell_type": "code",
   "execution_count": null,
   "id": "e73b65bf",
   "metadata": {
    "ExecuteTime": {
     "start_time": "2023-10-11T00:05:23.067Z"
    }
   },
   "outputs": [
    {
     "name": "stdout",
     "output_type": "stream",
     "text": [
      "Images/\"StartExp.svg\"\n"
     ]
    },
    {
     "name": "stderr",
     "output_type": "stream",
     "text": [
      "batch command experienced an execution error:\n",
      "Error: eval: unbound variable: Images/ \n",
      "\n",
      "/usr/lib/gimp/2.0/plug-ins/script-fu/script-fu terminated: Interrupt\n",
      "gimp: terminated: Interrupt\n"
     ]
    },
    {
     "name": "stdout",
     "output_type": "stream",
     "text": [
      "Images/\"CycleStage.svg\"\n"
     ]
    },
    {
     "name": "stderr",
     "output_type": "stream",
     "text": [
      "batch command experienced an execution error:\n",
      "Error: eval: unbound variable: Images/ \n",
      "\n"
     ]
    }
   ],
   "source": [
    "input_folder='Images'\n",
    "output_folder=\"/home/edwin/Pictures/pic\"\n",
    "\n",
    "file='\"Picture1.png\"'\n",
    "space=' '\n",
    "Begin=\"gimp -i -b '(let* ((image (car (gimp-file-load RUN-NONINTERACTIVE\"\n",
    "Midd=\")))(drawable (car (gimp-image-active-drawable image))))(gimp-invert drawable)(file-png-save RUN-NONINTERACTIVE image drawable \"\n",
    "End=\"0 0 0 0 0 1 1)(gimp-quit 0))'\"\n",
    "\n",
    "import os\n",
    "\n",
    "for File in os.listdir(input_folder):\n",
    "    file='input_folder+'/'+File+'\"'\n",
    "    print(file)\n",
    "    Command=Begin+space+file+space+file+space+Midd+space+file+space+file+space+End\n",
    "    Save=open('Command.sh','w')\n",
    "    Save.write(Command)\n",
    "    Save.close()\n",
    "    os.system('sh Command.sh')"
   ]
  },
  {
   "cell_type": "code",
   "execution_count": 11,
   "id": "7b5cf719",
   "metadata": {
    "ExecuteTime": {
     "end_time": "2023-10-10T23:57:49.808959Z",
     "start_time": "2023-10-10T23:57:49.805584Z"
    }
   },
   "outputs": [
    {
     "name": "stdout",
     "output_type": "stream",
     "text": [
      "StartExp.svg\n",
      "CycleStage.svg\n",
      "Delay.svg\n",
      "RestartExp.svg\n",
      "CheckToAdjust.svg\n",
      "ControlFeed.svg\n",
      "CopyToDataFolder.svg\n",
      "SetSetPoint.svg\n",
      "Exp.svg\n",
      "CyclingParameters.svg\n",
      "Connect.svg\n"
     ]
    }
   ],
   "source": [
    "\n",
    "    print(file)"
   ]
  },
  {
   "cell_type": "code",
   "execution_count": 7,
   "id": "448bf6e6",
   "metadata": {
    "ExecuteTime": {
     "end_time": "2023-10-10T23:55:48.241829Z",
     "start_time": "2023-10-10T23:55:46.502575Z"
    }
   },
   "outputs": [
    {
     "name": "stderr",
     "output_type": "stream",
     "text": [
      "using gegl copy\n"
     ]
    },
    {
     "name": "stdout",
     "output_type": "stream",
     "text": [
      "EEEEeEeek! 5 GeglBuffers leaked\n"
     ]
    },
    {
     "name": "stderr",
     "output_type": "stream",
     "text": [
      "gimp: GEGL-WARNING: (../gegl/buffer/gegl-tile-handler-cache.c:1076):gegl_tile_cache_destroy: runtime check failed: (g_queue_is_empty (&cache_queue))\n"
     ]
    },
    {
     "data": {
      "text/plain": [
       "0"
      ]
     },
     "execution_count": 7,
     "metadata": {},
     "output_type": "execute_result"
    }
   ],
   "source": []
  }
 ],
 "metadata": {
  "kernelspec": {
   "display_name": "Python 3 (ipykernel)",
   "language": "python",
   "name": "python3"
  },
  "language_info": {
   "codemirror_mode": {
    "name": "ipython",
    "version": 3
   },
   "file_extension": ".py",
   "mimetype": "text/x-python",
   "name": "python",
   "nbconvert_exporter": "python",
   "pygments_lexer": "ipython3",
   "version": "3.7.13"
  }
 },
 "nbformat": 4,
 "nbformat_minor": 5
}
