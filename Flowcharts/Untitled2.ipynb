{
 "cells": [
  {
   "cell_type": "code",
   "execution_count": 1,
   "id": "e73b65bf",
   "metadata": {
    "ExecuteTime": {
     "end_time": "2023-10-11T00:06:17.572922Z",
     "start_time": "2023-10-11T00:06:00.523156Z"
    },
    "scrolled": true
   },
   "outputs": [
    {
     "name": "stdout",
     "output_type": "stream",
     "text": [
      "\"Images/StartExp.svg\"\n"
     ]
    },
    {
     "name": "stderr",
     "output_type": "stream",
     "text": [
      "using gegl copy\n",
      "gimp: GEGL-WARNING: (../gegl/buffer/gegl-tile-handler-cache.c:1076):gegl_tile_cache_destroy: runtime check failed: (g_queue_is_empty (&cache_queue))\n"
     ]
    },
    {
     "name": "stdout",
     "output_type": "stream",
     "text": [
      "EEEEeEeek! 3 GeglBuffers leaked\n",
      "\"Images/CycleStage.svg\"\n"
     ]
    },
    {
     "name": "stderr",
     "output_type": "stream",
     "text": [
      "using gegl copy\n",
      "gimp: GEGL-WARNING: (../gegl/buffer/gegl-tile-handler-cache.c:1076):gegl_tile_cache_destroy: runtime check failed: (g_queue_is_empty (&cache_queue))\n"
     ]
    },
    {
     "name": "stdout",
     "output_type": "stream",
     "text": [
      "EEEEeEeek! 3 GeglBuffers leaked\n",
      "\"Images/Delay.svg\"\n"
     ]
    },
    {
     "name": "stderr",
     "output_type": "stream",
     "text": [
      "using gegl copy\n",
      "gimp: GEGL-WARNING: (../gegl/buffer/gegl-tile-handler-cache.c:1076):gegl_tile_cache_destroy: runtime check failed: (g_queue_is_empty (&cache_queue))\n"
     ]
    },
    {
     "name": "stdout",
     "output_type": "stream",
     "text": [
      "EEEEeEeek! 3 GeglBuffers leaked\n",
      "\"Images/RestartExp.svg\"\n"
     ]
    },
    {
     "name": "stderr",
     "output_type": "stream",
     "text": [
      "using gegl copy\n",
      "gimp: GEGL-WARNING: (../gegl/buffer/gegl-tile-handler-cache.c:1076):gegl_tile_cache_destroy: runtime check failed: (g_queue_is_empty (&cache_queue))\n"
     ]
    },
    {
     "name": "stdout",
     "output_type": "stream",
     "text": [
      "EEEEeEeek! 3 GeglBuffers leaked\n",
      "\"Images/CheckToAdjust.svg\"\n"
     ]
    },
    {
     "name": "stderr",
     "output_type": "stream",
     "text": [
      "using gegl copy\n",
      "gimp: GEGL-WARNING: (../gegl/buffer/gegl-tile-handler-cache.c:1076):gegl_tile_cache_destroy: runtime check failed: (g_queue_is_empty (&cache_queue))\n"
     ]
    },
    {
     "name": "stdout",
     "output_type": "stream",
     "text": [
      "EEEEeEeek! 3 GeglBuffers leaked\n",
      "\"Images/ControlFeed.svg\"\n"
     ]
    },
    {
     "name": "stderr",
     "output_type": "stream",
     "text": [
      "using gegl copy\n",
      "gimp: GEGL-WARNING: (../gegl/buffer/gegl-tile-handler-cache.c:1076):gegl_tile_cache_destroy: runtime check failed: (g_queue_is_empty (&cache_queue))\n"
     ]
    },
    {
     "name": "stdout",
     "output_type": "stream",
     "text": [
      "EEEEeEeek! 3 GeglBuffers leaked\n",
      "\"Images/CopyToDataFolder.svg\"\n"
     ]
    },
    {
     "name": "stderr",
     "output_type": "stream",
     "text": [
      "using gegl copy\n",
      "gimp: GEGL-WARNING: (../gegl/buffer/gegl-tile-handler-cache.c:1076):gegl_tile_cache_destroy: runtime check failed: (g_queue_is_empty (&cache_queue))\n"
     ]
    },
    {
     "name": "stdout",
     "output_type": "stream",
     "text": [
      "EEEEeEeek! 3 GeglBuffers leaked\n",
      "\"Images/SetSetPoint.svg\"\n"
     ]
    },
    {
     "name": "stderr",
     "output_type": "stream",
     "text": [
      "using gegl copy\n",
      "gimp: GEGL-WARNING: (../gegl/buffer/gegl-tile-handler-cache.c:1076):gegl_tile_cache_destroy: runtime check failed: (g_queue_is_empty (&cache_queue))\n"
     ]
    },
    {
     "name": "stdout",
     "output_type": "stream",
     "text": [
      "EEEEeEeek! 3 GeglBuffers leaked\n",
      "\"Images/Exp.svg\"\n"
     ]
    },
    {
     "name": "stderr",
     "output_type": "stream",
     "text": [
      "using gegl copy\n",
      "gimp: GEGL-WARNING: (../gegl/buffer/gegl-tile-handler-cache.c:1076):gegl_tile_cache_destroy: runtime check failed: (g_queue_is_empty (&cache_queue))\n"
     ]
    },
    {
     "name": "stdout",
     "output_type": "stream",
     "text": [
      "EEEEeEeek! 3 GeglBuffers leaked\n",
      "\"Images/CyclingParameters.svg\"\n"
     ]
    },
    {
     "name": "stderr",
     "output_type": "stream",
     "text": [
      "using gegl copy\n",
      "gimp: GEGL-WARNING: (../gegl/buffer/gegl-tile-handler-cache.c:1076):gegl_tile_cache_destroy: runtime check failed: (g_queue_is_empty (&cache_queue))\n"
     ]
    },
    {
     "name": "stdout",
     "output_type": "stream",
     "text": [
      "EEEEeEeek! 3 GeglBuffers leaked\n",
      "\"Images/Connect.svg\"\n"
     ]
    },
    {
     "name": "stderr",
     "output_type": "stream",
     "text": [
      "using gegl copy\n"
     ]
    },
    {
     "name": "stdout",
     "output_type": "stream",
     "text": [
      "EEEEeEeek! 3 GeglBuffers leaked\n"
     ]
    },
    {
     "name": "stderr",
     "output_type": "stream",
     "text": [
      "gimp: GEGL-WARNING: (../gegl/buffer/gegl-tile-handler-cache.c:1076):gegl_tile_cache_destroy: runtime check failed: (g_queue_is_empty (&cache_queue))\n"
     ]
    }
   ],
   "source": [
    "input_folder='Images'\n",
    "output_folder=\"/home/edwin/Pictures/pic\"\n",
    "\n",
    "file='\"Picture1.png\"'\n",
    "space=' '\n",
    "Begin=\"gimp -i -b '(let* ((image (car (gimp-file-load RUN-NONINTERACTIVE\"\n",
    "Midd=\")))(drawable (car (gimp-image-active-drawable image))))(gimp-invert drawable)(file-png-save RUN-NONINTERACTIVE image drawable \"\n",
    "End=\"0 0 0 0 0 1 1)(gimp-quit 0))'\"\n",
    "\n",
    "import os\n",
    "\n",
    "for File in os.listdir(input_folder):\n",
    "    file='\"'+input_folder+'/'+File+'\"'\n",
    "    print(file)\n",
    "    Command=Begin+space+file+space+file+space+Midd+space+file+space+file+space+End\n",
    "    Save=open('Command.sh','w')\n",
    "    Save.write(Command)\n",
    "    Save.close()\n",
    "    os.system('sh Command.sh')"
   ]
  },
  {
   "cell_type": "code",
   "execution_count": 11,
   "id": "7b5cf719",
   "metadata": {
    "ExecuteTime": {
     "end_time": "2023-10-10T23:57:49.808959Z",
     "start_time": "2023-10-10T23:57:49.805584Z"
    }
   },
   "outputs": [
    {
     "name": "stdout",
     "output_type": "stream",
     "text": [
      "StartExp.svg\n",
      "CycleStage.svg\n",
      "Delay.svg\n",
      "RestartExp.svg\n",
      "CheckToAdjust.svg\n",
      "ControlFeed.svg\n",
      "CopyToDataFolder.svg\n",
      "SetSetPoint.svg\n",
      "Exp.svg\n",
      "CyclingParameters.svg\n",
      "Connect.svg\n"
     ]
    }
   ],
   "source": [
    "gimp -i -b '(let* ((image (car (gimp-file-load RUN-NONINTERACTIVE \"path-to-your-image\" \"path-to-your-image\")))\n",
    "(drawable (car (gimp-image-active-drawable image)))\n",
    "(color-to-replace (car (gimp-color-picker 0 0)))\n",
    "(new-color (car (gimp-color-picker 0 0)))\n",
    ")\n",
    "(gimp-invert drawable)\n",
    "(gimp-by-color-select drawable color-to-replace 0 0 15 0 1 1 0)\n",
    "(gimp-edit-fill drawable 2)\n",
    "(gimp-file-save RUN-NONINTERACTIVE image drawable \"path-to-save-modified-image\" \"path-to-save-modified-image\")\n",
    "(gimp-quit 0))'"
   ]
  },
  {
   "cell_type": "code",
   "execution_count": 7,
   "id": "448bf6e6",
   "metadata": {
    "ExecuteTime": {
     "end_time": "2023-10-10T23:55:48.241829Z",
     "start_time": "2023-10-10T23:55:46.502575Z"
    }
   },
   "outputs": [
    {
     "name": "stderr",
     "output_type": "stream",
     "text": [
      "using gegl copy\n"
     ]
    },
    {
     "name": "stdout",
     "output_type": "stream",
     "text": [
      "EEEEeEeek! 5 GeglBuffers leaked\n"
     ]
    },
    {
     "name": "stderr",
     "output_type": "stream",
     "text": [
      "gimp: GEGL-WARNING: (../gegl/buffer/gegl-tile-handler-cache.c:1076):gegl_tile_cache_destroy: runtime check failed: (g_queue_is_empty (&cache_queue))\n"
     ]
    },
    {
     "data": {
      "text/plain": [
       "0"
      ]
     },
     "execution_count": 7,
     "metadata": {},
     "output_type": "execute_result"
    }
   ],
   "source": []
  }
 ],
 "metadata": {
  "kernelspec": {
   "display_name": "Python 3 (ipykernel)",
   "language": "python",
   "name": "python3"
  },
  "language_info": {
   "codemirror_mode": {
    "name": "ipython",
    "version": 3
   },
   "file_extension": ".py",
   "mimetype": "text/x-python",
   "name": "python",
   "nbconvert_exporter": "python",
   "pygments_lexer": "ipython3",
   "version": "3.7.13"
  }
 },
 "nbformat": 4,
 "nbformat_minor": 5
}
